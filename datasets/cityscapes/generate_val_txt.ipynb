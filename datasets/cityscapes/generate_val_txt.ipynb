{
 "cells": [
  {
   "cell_type": "code",
   "execution_count": 1,
   "metadata": {},
   "outputs": [],
   "source": [
    "import os"
   ]
  },
  {
   "cell_type": "code",
   "execution_count": 2,
   "metadata": {},
   "outputs": [],
   "source": [
    "path = os.getcwd()"
   ]
  },
  {
   "cell_type": "code",
   "execution_count": 3,
   "metadata": {},
   "outputs": [
    {
     "data": {
      "text/plain": [
       "'/home/cool/桌面/uavid/valid/valid'"
      ]
     },
     "execution_count": 3,
     "metadata": {},
     "output_type": "execute_result"
    }
   ],
   "source": [
    "path"
   ]
  },
  {
   "cell_type": "code",
   "execution_count": 4,
   "metadata": {},
   "outputs": [],
   "source": [
    "ls = os.listdir()"
   ]
  },
  {
   "cell_type": "code",
   "execution_count": 5,
   "metadata": {},
   "outputs": [],
   "source": [
    "ls.remove('generate_val_txt.ipynb')\n",
    "ls.remove('.ipynb_checkpoints')\n",
    "# ls.remove('val.txt')"
   ]
  },
  {
   "cell_type": "code",
   "execution_count": 6,
   "metadata": {},
   "outputs": [],
   "source": [
    "# ls"
   ]
  },
  {
   "cell_type": "code",
   "execution_count": 7,
   "metadata": {},
   "outputs": [],
   "source": [
    "path_dic = {}\n",
    "path_dic_label = {}\n",
    "val_dic = {}\n",
    "\n",
    "for i in range(len(ls)):\n",
    "    path_dic[ls[i]] = os.path.join(path,ls[i])\n",
    "    path_dic_label[ls[i]] = os.path.join(path_dic[ls[i]],'Labels/')\n",
    "    path_dic[ls[i]] = os.path.join(path_dic[ls[i]],'Images/')\n",
    "for i in ls:\n",
    "    val_dic[i] = []\n",
    "for i in range(len(ls)):\n",
    "    tmp1 = []\n",
    "    for j,k in zip(os.listdir(path_dic[ls[i]]),os.listdir(path_dic_label[ls[i]])):\n",
    "        tmp1.append(os.path.join(path_dic[ls[i]],j))\n",
    "        tmp1.append(os.path.join(path_dic_label[ls[i]],k))\n",
    "    val_dic[ls[i]] = tmp1"
   ]
  },
  {
   "cell_type": "code",
   "execution_count": 8,
   "metadata": {},
   "outputs": [],
   "source": [
    "# path_dic"
   ]
  },
  {
   "cell_type": "code",
   "execution_count": 9,
   "metadata": {},
   "outputs": [],
   "source": [
    "# path_dic_label"
   ]
  },
  {
   "cell_type": "code",
   "execution_count": 10,
   "metadata": {},
   "outputs": [],
   "source": [
    "# os.listdir(path_dic[ls[0]])"
   ]
  },
  {
   "cell_type": "code",
   "execution_count": 11,
   "metadata": {},
   "outputs": [
    {
     "data": {
      "text/plain": [
       "{'seq19': ['/home/cool/桌面/uavid/valid/valid/seq19/Images/000500.png',\n",
       "  '/home/cool/桌面/uavid/valid/valid/seq19/Labels/000500.png',\n",
       "  '/home/cool/桌面/uavid/valid/valid/seq19/Images/000300.png',\n",
       "  '/home/cool/桌面/uavid/valid/valid/seq19/Labels/000300.png',\n",
       "  '/home/cool/桌面/uavid/valid/valid/seq19/Images/000400.png',\n",
       "  '/home/cool/桌面/uavid/valid/valid/seq19/Labels/000400.png',\n",
       "  '/home/cool/桌面/uavid/valid/valid/seq19/Images/000900.png',\n",
       "  '/home/cool/桌面/uavid/valid/valid/seq19/Labels/000900.png',\n",
       "  '/home/cool/桌面/uavid/valid/valid/seq19/Images/000200.png',\n",
       "  '/home/cool/桌面/uavid/valid/valid/seq19/Labels/000200.png',\n",
       "  '/home/cool/桌面/uavid/valid/valid/seq19/Images/000100.png',\n",
       "  '/home/cool/桌面/uavid/valid/valid/seq19/Labels/000100.png',\n",
       "  '/home/cool/桌面/uavid/valid/valid/seq19/Images/000800.png',\n",
       "  '/home/cool/桌面/uavid/valid/valid/seq19/Labels/000800.png',\n",
       "  '/home/cool/桌面/uavid/valid/valid/seq19/Images/000700.png',\n",
       "  '/home/cool/桌面/uavid/valid/valid/seq19/Labels/000700.png',\n",
       "  '/home/cool/桌面/uavid/valid/valid/seq19/Images/000000.png',\n",
       "  '/home/cool/桌面/uavid/valid/valid/seq19/Labels/000000.png',\n",
       "  '/home/cool/桌面/uavid/valid/valid/seq19/Images/000600.png',\n",
       "  '/home/cool/桌面/uavid/valid/valid/seq19/Labels/000600.png'],\n",
       " 'seq37': ['/home/cool/桌面/uavid/valid/valid/seq37/Images/000500.png',\n",
       "  '/home/cool/桌面/uavid/valid/valid/seq37/Labels/000500.png',\n",
       "  '/home/cool/桌面/uavid/valid/valid/seq37/Images/000300.png',\n",
       "  '/home/cool/桌面/uavid/valid/valid/seq37/Labels/000300.png',\n",
       "  '/home/cool/桌面/uavid/valid/valid/seq37/Images/000400.png',\n",
       "  '/home/cool/桌面/uavid/valid/valid/seq37/Labels/000400.png',\n",
       "  '/home/cool/桌面/uavid/valid/valid/seq37/Images/000900.png',\n",
       "  '/home/cool/桌面/uavid/valid/valid/seq37/Labels/000900.png',\n",
       "  '/home/cool/桌面/uavid/valid/valid/seq37/Images/000200.png',\n",
       "  '/home/cool/桌面/uavid/valid/valid/seq37/Labels/000200.png',\n",
       "  '/home/cool/桌面/uavid/valid/valid/seq37/Images/000100.png',\n",
       "  '/home/cool/桌面/uavid/valid/valid/seq37/Labels/000100.png',\n",
       "  '/home/cool/桌面/uavid/valid/valid/seq37/Images/000800.png',\n",
       "  '/home/cool/桌面/uavid/valid/valid/seq37/Labels/000800.png',\n",
       "  '/home/cool/桌面/uavid/valid/valid/seq37/Images/000700.png',\n",
       "  '/home/cool/桌面/uavid/valid/valid/seq37/Labels/000700.png',\n",
       "  '/home/cool/桌面/uavid/valid/valid/seq37/Images/000000.png',\n",
       "  '/home/cool/桌面/uavid/valid/valid/seq37/Labels/000000.png',\n",
       "  '/home/cool/桌面/uavid/valid/valid/seq37/Images/000600.png',\n",
       "  '/home/cool/桌面/uavid/valid/valid/seq37/Labels/000600.png'],\n",
       " 'seq18': ['/home/cool/桌面/uavid/valid/valid/seq18/Images/000500.png',\n",
       "  '/home/cool/桌面/uavid/valid/valid/seq18/Labels/000500.png',\n",
       "  '/home/cool/桌面/uavid/valid/valid/seq18/Images/000300.png',\n",
       "  '/home/cool/桌面/uavid/valid/valid/seq18/Labels/000300.png',\n",
       "  '/home/cool/桌面/uavid/valid/valid/seq18/Images/000400.png',\n",
       "  '/home/cool/桌面/uavid/valid/valid/seq18/Labels/000400.png',\n",
       "  '/home/cool/桌面/uavid/valid/valid/seq18/Images/000900.png',\n",
       "  '/home/cool/桌面/uavid/valid/valid/seq18/Labels/000900.png',\n",
       "  '/home/cool/桌面/uavid/valid/valid/seq18/Images/000200.png',\n",
       "  '/home/cool/桌面/uavid/valid/valid/seq18/Labels/000200.png',\n",
       "  '/home/cool/桌面/uavid/valid/valid/seq18/Images/000100.png',\n",
       "  '/home/cool/桌面/uavid/valid/valid/seq18/Labels/000100.png',\n",
       "  '/home/cool/桌面/uavid/valid/valid/seq18/Images/000800.png',\n",
       "  '/home/cool/桌面/uavid/valid/valid/seq18/Labels/000800.png',\n",
       "  '/home/cool/桌面/uavid/valid/valid/seq18/Images/000700.png',\n",
       "  '/home/cool/桌面/uavid/valid/valid/seq18/Labels/000700.png',\n",
       "  '/home/cool/桌面/uavid/valid/valid/seq18/Images/000000.png',\n",
       "  '/home/cool/桌面/uavid/valid/valid/seq18/Labels/000000.png',\n",
       "  '/home/cool/桌面/uavid/valid/valid/seq18/Images/000600.png',\n",
       "  '/home/cool/桌面/uavid/valid/valid/seq18/Labels/000600.png'],\n",
       " 'seq20': ['/home/cool/桌面/uavid/valid/valid/seq20/Images/000500.png',\n",
       "  '/home/cool/桌面/uavid/valid/valid/seq20/Labels/000500.png',\n",
       "  '/home/cool/桌面/uavid/valid/valid/seq20/Images/000300.png',\n",
       "  '/home/cool/桌面/uavid/valid/valid/seq20/Labels/000300.png',\n",
       "  '/home/cool/桌面/uavid/valid/valid/seq20/Images/000400.png',\n",
       "  '/home/cool/桌面/uavid/valid/valid/seq20/Labels/000400.png',\n",
       "  '/home/cool/桌面/uavid/valid/valid/seq20/Images/000900.png',\n",
       "  '/home/cool/桌面/uavid/valid/valid/seq20/Labels/000900.png',\n",
       "  '/home/cool/桌面/uavid/valid/valid/seq20/Images/000200.png',\n",
       "  '/home/cool/桌面/uavid/valid/valid/seq20/Labels/000200.png',\n",
       "  '/home/cool/桌面/uavid/valid/valid/seq20/Images/000100.png',\n",
       "  '/home/cool/桌面/uavid/valid/valid/seq20/Labels/000100.png',\n",
       "  '/home/cool/桌面/uavid/valid/valid/seq20/Images/000800.png',\n",
       "  '/home/cool/桌面/uavid/valid/valid/seq20/Labels/000800.png',\n",
       "  '/home/cool/桌面/uavid/valid/valid/seq20/Images/000700.png',\n",
       "  '/home/cool/桌面/uavid/valid/valid/seq20/Labels/000700.png',\n",
       "  '/home/cool/桌面/uavid/valid/valid/seq20/Images/000000.png',\n",
       "  '/home/cool/桌面/uavid/valid/valid/seq20/Labels/000000.png',\n",
       "  '/home/cool/桌面/uavid/valid/valid/seq20/Images/000600.png',\n",
       "  '/home/cool/桌面/uavid/valid/valid/seq20/Labels/000600.png'],\n",
       " 'seq16': ['/home/cool/桌面/uavid/valid/valid/seq16/Images/000500.png',\n",
       "  '/home/cool/桌面/uavid/valid/valid/seq16/Labels/000500.png',\n",
       "  '/home/cool/桌面/uavid/valid/valid/seq16/Images/000300.png',\n",
       "  '/home/cool/桌面/uavid/valid/valid/seq16/Labels/000300.png',\n",
       "  '/home/cool/桌面/uavid/valid/valid/seq16/Images/000400.png',\n",
       "  '/home/cool/桌面/uavid/valid/valid/seq16/Labels/000400.png',\n",
       "  '/home/cool/桌面/uavid/valid/valid/seq16/Images/000900.png',\n",
       "  '/home/cool/桌面/uavid/valid/valid/seq16/Labels/000900.png',\n",
       "  '/home/cool/桌面/uavid/valid/valid/seq16/Images/000200.png',\n",
       "  '/home/cool/桌面/uavid/valid/valid/seq16/Labels/000200.png',\n",
       "  '/home/cool/桌面/uavid/valid/valid/seq16/Images/000100.png',\n",
       "  '/home/cool/桌面/uavid/valid/valid/seq16/Labels/000100.png',\n",
       "  '/home/cool/桌面/uavid/valid/valid/seq16/Images/000800.png',\n",
       "  '/home/cool/桌面/uavid/valid/valid/seq16/Labels/000800.png',\n",
       "  '/home/cool/桌面/uavid/valid/valid/seq16/Images/000700.png',\n",
       "  '/home/cool/桌面/uavid/valid/valid/seq16/Labels/000700.png',\n",
       "  '/home/cool/桌面/uavid/valid/valid/seq16/Images/000000.png',\n",
       "  '/home/cool/桌面/uavid/valid/valid/seq16/Labels/000000.png',\n",
       "  '/home/cool/桌面/uavid/valid/valid/seq16/Images/000600.png',\n",
       "  '/home/cool/桌面/uavid/valid/valid/seq16/Labels/000600.png'],\n",
       " 'seq36': ['/home/cool/桌面/uavid/valid/valid/seq36/Images/000500.png',\n",
       "  '/home/cool/桌面/uavid/valid/valid/seq36/Labels/000500.png',\n",
       "  '/home/cool/桌面/uavid/valid/valid/seq36/Images/000300.png',\n",
       "  '/home/cool/桌面/uavid/valid/valid/seq36/Labels/000300.png',\n",
       "  '/home/cool/桌面/uavid/valid/valid/seq36/Images/000400.png',\n",
       "  '/home/cool/桌面/uavid/valid/valid/seq36/Labels/000400.png',\n",
       "  '/home/cool/桌面/uavid/valid/valid/seq36/Images/000900.png',\n",
       "  '/home/cool/桌面/uavid/valid/valid/seq36/Labels/000900.png',\n",
       "  '/home/cool/桌面/uavid/valid/valid/seq36/Images/000200.png',\n",
       "  '/home/cool/桌面/uavid/valid/valid/seq36/Labels/000200.png',\n",
       "  '/home/cool/桌面/uavid/valid/valid/seq36/Images/000100.png',\n",
       "  '/home/cool/桌面/uavid/valid/valid/seq36/Labels/000100.png',\n",
       "  '/home/cool/桌面/uavid/valid/valid/seq36/Images/000800.png',\n",
       "  '/home/cool/桌面/uavid/valid/valid/seq36/Labels/000800.png',\n",
       "  '/home/cool/桌面/uavid/valid/valid/seq36/Images/000700.png',\n",
       "  '/home/cool/桌面/uavid/valid/valid/seq36/Labels/000700.png',\n",
       "  '/home/cool/桌面/uavid/valid/valid/seq36/Images/000000.png',\n",
       "  '/home/cool/桌面/uavid/valid/valid/seq36/Labels/000000.png',\n",
       "  '/home/cool/桌面/uavid/valid/valid/seq36/Images/000600.png',\n",
       "  '/home/cool/桌面/uavid/valid/valid/seq36/Labels/000600.png'],\n",
       " 'seq17': ['/home/cool/桌面/uavid/valid/valid/seq17/Images/000500.png',\n",
       "  '/home/cool/桌面/uavid/valid/valid/seq17/Labels/000500.png',\n",
       "  '/home/cool/桌面/uavid/valid/valid/seq17/Images/000300.png',\n",
       "  '/home/cool/桌面/uavid/valid/valid/seq17/Labels/000300.png',\n",
       "  '/home/cool/桌面/uavid/valid/valid/seq17/Images/000400.png',\n",
       "  '/home/cool/桌面/uavid/valid/valid/seq17/Labels/000400.png',\n",
       "  '/home/cool/桌面/uavid/valid/valid/seq17/Images/000900.png',\n",
       "  '/home/cool/桌面/uavid/valid/valid/seq17/Labels/000900.png',\n",
       "  '/home/cool/桌面/uavid/valid/valid/seq17/Images/000200.png',\n",
       "  '/home/cool/桌面/uavid/valid/valid/seq17/Labels/000200.png',\n",
       "  '/home/cool/桌面/uavid/valid/valid/seq17/Images/000100.png',\n",
       "  '/home/cool/桌面/uavid/valid/valid/seq17/Labels/000100.png',\n",
       "  '/home/cool/桌面/uavid/valid/valid/seq17/Images/000800.png',\n",
       "  '/home/cool/桌面/uavid/valid/valid/seq17/Labels/000800.png',\n",
       "  '/home/cool/桌面/uavid/valid/valid/seq17/Images/000700.png',\n",
       "  '/home/cool/桌面/uavid/valid/valid/seq17/Labels/000700.png',\n",
       "  '/home/cool/桌面/uavid/valid/valid/seq17/Images/000000.png',\n",
       "  '/home/cool/桌面/uavid/valid/valid/seq17/Labels/000000.png',\n",
       "  '/home/cool/桌面/uavid/valid/valid/seq17/Images/000600.png',\n",
       "  '/home/cool/桌面/uavid/valid/valid/seq17/Labels/000600.png']}"
      ]
     },
     "execution_count": 11,
     "metadata": {},
     "output_type": "execute_result"
    }
   ],
   "source": [
    "val_dic"
   ]
  },
  {
   "cell_type": "code",
   "execution_count": 12,
   "metadata": {},
   "outputs": [],
   "source": [
    "val = (list(val_dic.values()))\n",
    "f = open('val.txt', 'w')\n",
    "x = 0\n",
    "for i in val:\n",
    "    for j in i:\n",
    "        if x%2!=0:\n",
    "            f.write(j)\n",
    "            f.write('\\n')\n",
    "        else:\n",
    "            f.write(j)\n",
    "        x+=1\n",
    "f.close()"
   ]
  },
  {
   "cell_type": "code",
   "execution_count": null,
   "metadata": {},
   "outputs": [],
   "source": []
  }
 ],
 "metadata": {
  "kernelspec": {
   "display_name": "Python 3",
   "language": "python",
   "name": "python3"
  },
  "language_info": {
   "codemirror_mode": {
    "name": "ipython",
    "version": 3
   },
   "file_extension": ".py",
   "mimetype": "text/x-python",
   "name": "python",
   "nbconvert_exporter": "python",
   "pygments_lexer": "ipython3",
   "version": "3.8.5"
  }
 },
 "nbformat": 4,
 "nbformat_minor": 4
}
